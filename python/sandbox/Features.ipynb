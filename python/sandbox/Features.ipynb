{
 "cells": [
  {
   "cell_type": "markdown",
   "metadata": {},
   "source": [
    "# Load CSV\n",
    "\n",
    "## load_csv.py\n",
    "### load_csv(file_path)\n",
    "Definition: Load the csv tracking data into numpy matrix.\n",
    "\n",
    "           format of each row: frame_id, fish_1, x, y, rad ,fish_2..."
   ]
  },
  {
   "cell_type": "code",
   "execution_count": null,
   "metadata": {
    "collapsed": true
   },
   "outputs": [],
   "source": [
    "from features.load_csv import *\n",
    "path = ''\n",
    "dat  = load_csv(path)"
   ]
  },
  {
   "cell_type": "markdown",
   "metadata": {},
   "source": [
    "# Features\n",
    "\n",
    "## Forward velocity\n",
    "### forward_velocity(dat)\n",
    "Definition: Get the forward velocity of all fish for all frames. The forward velocity is equal to the fish distance difference between frames.\n",
    "            \n",
    "           param dat: formative tracking data, n rows;\n",
    "           \n",
    "           return:    (n-1 * fish_num) forward velocity matrix"
   ]
  },
  {
   "cell_type": "code",
   "execution_count": null,
   "metadata": {
    "collapsed": true
   },
   "outputs": [],
   "source": [
    "from features.features import *\n",
    "\n",
    "vf_matrix = forward_velocity(dat)"
   ]
  },
  {
   "cell_type": "markdown",
   "metadata": {},
   "source": [
    "## Turning velocity\n",
    "### turning_velocity(dat)\n",
    "Definition: Get the turning velocities of all fish for all frames.\n",
    "\n",
    "           param dat: formative tracking data, n rows. \n",
    "            \n",
    "           return:    the (n-1 * fish_num) turning velcotiy matrix\n",
    "\n"
   ]
  },
  {
   "cell_type": "code",
   "execution_count": null,
   "metadata": {
    "collapsed": true
   },
   "outputs": [],
   "source": [
    "vt_matrix = turning_velocity(dat)"
   ]
  },
  {
   "cell_type": "markdown",
   "metadata": {},
   "source": [
    "## Relative position of fish\n",
    "\n",
    "### Vector\n",
    "#### vector_a2b(dat, id_a, id_b)\n",
    "Definition: Get fish a to fish b vector for all frames.\n",
    "\n",
    "           param dat:  formative tracking data, n rows; \n",
    "           param id_a: the id of fish a; \n",
    "           param id_b: the id of fish b. \n",
    "            \n",
    "           return:     the (n*2) fish a to fish b matrix\n",
    "            \n",
    "### Link angle\n",
    "#### linked_angle(dat, id_a, id_b)\n",
    "Definition: Get the linked angle of fish a to fish b for all frames.\n",
    "\n",
    "           param dat:  formative tracking data, n rows; \n",
    "           param id_a: the id of fish a; \n",
    "           param id_b: the id of fish b. \n",
    "        \n",
    "           return: (n*1) linked angle matrix\n",
    "\n"
   ]
  },
  {
   "cell_type": "code",
   "execution_count": null,
   "metadata": {
    "collapsed": true
   },
   "outputs": [],
   "source": [
    "fish1_to_fish2_vector_matrix        = vectro_a2b(dat, 1, 2)\n",
    "fish1_to_fish2_linked_angle_matrix  = linked_angle(dat, 1, 2)"
   ]
  },
  {
   "cell_type": "markdown",
   "metadata": {},
   "source": [
    "## Relative velocities\n",
    "### relative_velocities(dat, id_a, id_b)\n",
    "Definition: Get the ralative velocities(forward and turning) of fish b to fish a for all frames.\n",
    "\n",
    "           param dat:  formative tracking data, n rows; \n",
    "           param id_a: the id of fish a; \n",
    "           param id_b: the id of fish b. \n",
    "           \n",
    "           return:     the (n*2) relative velocities[vf, vt] matrix"
   ]
  },
  {
   "cell_type": "code",
   "execution_count": null,
   "metadata": {
    "collapsed": true
   },
   "outputs": [],
   "source": [
    "fish2_to_fish1_relative_v_matrix = relative_velocities(dat, 1, 2)"
   ]
  },
  {
   "cell_type": "markdown",
   "metadata": {
    "collapsed": true
   },
   "source": [
    "## Distances to nearby fish\n",
    "### nearby_fish(dat, fish_id)\n",
    "Definition: Get the sorted distance of all other fish.\n",
    "\n",
    "           param dat:     formative tracking data, n rows;\n",
    "           param fish_id: the id of fish that we calculated. \n",
    "           \n",
    "           return:        sorted distance (n * fish_num-1) matrix; \n",
    "                          id-map (n * fish_num-1) matrix of the distance matrix"
   ]
  },
  {
   "cell_type": "code",
   "execution_count": null,
   "metadata": {
    "collapsed": true
   },
   "outputs": [],
   "source": [
    "fish1s_distance_of_nearby_fish_matrix, id_map_of_distance_matrix = nearby_fish(dat, 1)"
   ]
  },
  {
   "cell_type": "markdown",
   "metadata": {},
   "source": [
    "## Relative orientation of nearby fish\n",
    "### Included angle\n",
    "#### included_angle(dat, id_a, id_b)\n",
    "Definition: Get the included_angle between fish a and fish b for all frames (orientation of fish b - orientation of fish a)\n",
    "    \n",
    "           param dat:  formative tracking data, n rows; \n",
    "           param id_a: the id of fish a; :param id_b: the id of fish b. \n",
    "           \n",
    "           return:     (n*1) included angle matrix:"
   ]
  },
  {
   "cell_type": "code",
   "execution_count": null,
   "metadata": {
    "collapsed": true
   },
   "outputs": [],
   "source": [
    "included_angle_of_fish1_to_fish2_matrix = included_angle(dat, 1, 2)"
   ]
  },
  {
   "cell_type": "markdown",
   "metadata": {
    "collapsed": true
   },
   "source": [
    "## Distances to the tank wall for a number of ray traces\n",
    "### dist_to_tank(dat, fish_id, rays_num=5, view_field=3.141592653589793)\n",
    "Definition: Get the distances form fish position to tank along the rays (left to right) \n",
    "\n",
    "           param dat:        formative tracking data, n rows; \n",
    "           param fish_id:    the id of fish that we calculated; \n",
    "           param rays_num:   the number of the rays(must be odd number), default 5;\n",
    "           param view_field: the angle of view of the fish, default Pi.\n",
    "           \n",
    "           return:           (n*rays_num) distance matrix"
   ]
  },
  {
   "cell_type": "code",
   "execution_count": null,
   "metadata": {
    "collapsed": true
   },
   "outputs": [],
   "source": [
    "distance_to_tank_matrix_of_fish1 = dist_to_tank(dat, 1)"
   ]
  },
  {
   "cell_type": "markdown",
   "metadata": {
    "collapsed": true
   },
   "source": [
    "## Forward and turning accelerations\n",
    "### Forward acceleration\n",
    "#### forward_acc(dat, delta_t=1)\n",
    "Definition: Get the forward accelerations of all fish for all frames, acc(t) = (vf(t+delta_t)-vf(t)) / delta_t \n",
    "\n",
    "           param dat:     formative tracking data, n rows; \n",
    "           param delta_t: the duration.\n",
    "           \n",
    "           return:        the (n - delta_t * fish_num) forward acceleration matrix\n",
    "           \n",
    "### Turning acceleration\n",
    "#### turning_acc(dat, delta_t=1)\n",
    "Definition: Get the turning accelerations of all fish for all frames acc(t) = (vt(t+delta_t)-vt(t)) / delta_t \n",
    "\n",
    "           param dat:     formative tracking data, n rows; \n",
    "           param delta_t: the duration.\n",
    "           \n",
    "           return:        the (n - delta_t * fish_num) turning acceleration matrix"
   ]
  },
  {
   "cell_type": "code",
   "execution_count": null,
   "metadata": {
    "collapsed": true
   },
   "outputs": [],
   "source": [
    "vf_acc_matrix = forward_acc(dat, delta_t=1)\n",
    "vt_acc_matrix = turning_acc(dat, delta_t=1)"
   ]
  },
  {
   "cell_type": "markdown",
   "metadata": {
    "collapsed": true
   },
   "source": [
    "## Relative accelerations\n",
    "### Relative forward acceleration\n",
    "#### relative_vf_acc(dat, id_a, id_b, delta_t=1)\n",
    "Definition: Get the acceleration of the relative forward velocity of fish b to fish a for all frames.\n",
    "\n",
    "           Let rvf(t) be the relative forward velocity of fish a to fish b at frame t\n",
    "           acc(t) = (rvf(t+delta_t) - rvf(t)) / delta_t\n",
    "\n",
    "           param dat:  formative tracking data, n rows; \n",
    "           param id_a: the id of fish a; \n",
    "           param id_b: the id of fish b.\n",
    "           \n",
    "           return:     the (n - delta_t * fish_num) relative forward velocity acceleration matrix\n",
    "           \n",
    "### Relative linked angle acceleration \n",
    "#### relative_linked_angle_acc(dat, id_a, id_b, delta_t=1)\n",
    "Definition: Get the acceleration of the linked angle of fish a to fish b for all frames.\n",
    "\n",
    "           let a(t) be the linked angle of fish a to fish b at frame t.\n",
    "           acc(t) = (a(t+delta_t)-a(t)) / delta_t \n",
    "           \n",
    "           param dat:  formative tracking data, n rows; \n",
    "           param id_a: the id of fish a; \n",
    "           param id_b: the id of fish b. \n",
    "           \n",
    "           return:     the (n - delta_t * fish_num) relative linked angle acceleration matrix"
   ]
  },
  {
   "cell_type": "code",
   "execution_count": null,
   "metadata": {
    "collapsed": true
   },
   "outputs": [],
   "source": [
    "relative_vf_acceleration_of_fish2_to_fish1           = relative_vf_acc(dat, 1, 2)\n",
    "relative_linked_angle_acceleration_of_fish1_to_fish2 = relative_linked_angle_acc(dat, 1, 2)"
   ]
  }
 ],
 "metadata": {
  "anaconda-cloud": {},
  "kernelspec": {
   "display_name": "Python [conda root]",
   "language": "python",
   "name": "conda-root-py"
  },
  "language_info": {
   "codemirror_mode": {
    "name": "ipython",
    "version": 2
   },
   "file_extension": ".py",
   "mimetype": "text/x-python",
   "name": "python",
   "nbconvert_exporter": "python",
   "pygments_lexer": "ipython2",
   "version": "2.7.12"
  }
 },
 "nbformat": 4,
 "nbformat_minor": 0
}
